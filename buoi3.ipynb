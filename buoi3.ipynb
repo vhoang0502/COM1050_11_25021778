{
  "nbformat": 4,
  "nbformat_minor": 0,
  "metadata": {
    "colab": {
      "provenance": []
    },
    "kernelspec": {
      "name": "python3",
      "display_name": "Python 3"
    },
    "language_info": {
      "name": "python"
    }
  },
  "cells": [
    {
      "cell_type": "code",
      "execution_count": null,
      "metadata": {
        "id": "8i1EaFc8GT0Q"
      },
      "outputs": [],
      "source": [
        "#bai1\n",
        "import sys\n",
        "a=input()\n",
        "s=a[::-1]\n",
        "s=s.lstrip(\"0\")\n",
        "print(s)"
      ]
    },
    {
      "cell_type": "code",
      "source": [
        "#bai2\n",
        "a,b=map(int,input().split())\n",
        "a=a^b\n",
        "b=a^b\n",
        "a=a^b\n",
        "print(a,b)"
      ],
      "metadata": {
        "id": "pt63o5x6pYxf"
      },
      "execution_count": null,
      "outputs": []
    },
    {
      "cell_type": "code",
      "source": [
        "#bai3\n",
        "n=int(input())\n",
        "if(n&(n-1)==0):\n",
        "    print(\"True\")\n",
        "else:\n",
        "    print(\"False\")"
      ],
      "metadata": {
        "id": "sYpMOr6_rn-v"
      },
      "execution_count": null,
      "outputs": []
    },
    {
      "cell_type": "code",
      "source": [
        "#bai4\n",
        "m,n=map(int,input().split())\n",
        "ans=(m/n)\n",
        "print(int(ans))"
      ],
      "metadata": {
        "id": "8TIy50Hds0aK"
      },
      "execution_count": null,
      "outputs": []
    },
    {
      "cell_type": "code",
      "source": [
        "#bai5\n",
        "m,n=map(int,input().split())\n",
        "ans=(m+n-1)//n\n",
        "print(ans)"
      ],
      "metadata": {
        "id": "f2DVAg2kuqcE"
      },
      "execution_count": null,
      "outputs": []
    },
    {
      "cell_type": "code",
      "source": [
        "#bai6\n",
        "n=int(input())\n",
        "if(n%2==0):\n",
        "  print(\"Even\")\n",
        "else:\n",
        "  print(\"Odd\")"
      ],
      "metadata": {
        "colab": {
          "base_uri": "https://localhost:8080/"
        },
        "id": "WBHKibKquvLr",
        "outputId": "73f39755-3d47-423a-b4a5-2a3159fc252b"
      },
      "execution_count": 3,
      "outputs": [
        {
          "output_type": "stream",
          "name": "stdout",
          "text": [
            "1\n",
            "Odd\n"
          ]
        }
      ]
    },
    {
      "cell_type": "code",
      "source": [
        "#bai7\n",
        "a=int(input())\n",
        "b=int(input())\n",
        "ans=a*b\n",
        "if(ans<=0):\n",
        "    print(\"No\")\n",
        "elif(ans>0):\n",
        "    print(\"Yes\")"
      ],
      "metadata": {
        "id": "wXQK2mGbuxE1"
      },
      "execution_count": null,
      "outputs": []
    },
    {
      "cell_type": "code",
      "source": [
        "#bai8\n",
        "a=input()\n",
        "b=input()\n",
        "if(len(a)>len(b)):\n",
        "    print(\"True\")\n",
        "else:\n",
        "    print(\"False\")"
      ],
      "metadata": {
        "colab": {
          "base_uri": "https://localhost:8080/"
        },
        "id": "7N2uPFQYv3oN",
        "outputId": "13c2e18e-77fc-4afe-ea02-84eb341bbf69"
      },
      "execution_count": 5,
      "outputs": [
        {
          "output_type": "stream",
          "name": "stdout",
          "text": [
            "grg\n",
            "sgrsgr\n",
            "False\n"
          ]
        }
      ]
    },
    {
      "cell_type": "code",
      "source": [
        "#bai9\n",
        "a=int(input())\n",
        "b=int(input())\n",
        "c=int(input())\n",
        "if((a+b>c) and (a+c>b) and (b+c>a)):\n",
        "    print(\"Yes\")\n",
        "else:\n",
        "    print(\"No\")"
      ],
      "metadata": {
        "colab": {
          "base_uri": "https://localhost:8080/"
        },
        "id": "Gg4RlIQkwYpz",
        "outputId": "151adf91-5d7c-4913-9448-a80b48e64535"
      },
      "execution_count": 11,
      "outputs": [
        {
          "output_type": "stream",
          "name": "stdout",
          "text": [
            "10\n",
            "-11\n",
            "12\n",
            "No\n"
          ]
        }
      ]
    },
    {
      "cell_type": "code",
      "source": [
        "#bai10\n",
        "a=int(input())\n",
        "b=int(input())\n",
        "c=int(input())\n",
        "d=int(input())\n",
        "ans=a\n",
        "if(b>ans):\n",
        "    ans=b\n",
        "if(c>ans):\n",
        "    ans=c\n",
        "if(d>ans):\n",
        "    ans=d\n",
        "print(ans)"
      ],
      "metadata": {
        "colab": {
          "base_uri": "https://localhost:8080/"
        },
        "id": "sJS73h-MwiyL",
        "outputId": "a3592d23-51c0-4807-daf2-637469ffa6a7"
      },
      "execution_count": 12,
      "outputs": [
        {
          "output_type": "stream",
          "name": "stdout",
          "text": [
            "-1\n",
            "-1\n",
            "-1\n",
            "-1\n",
            "-1\n"
          ]
        }
      ]
    },
    {
      "cell_type": "code",
      "source": [
        "#bai11\n",
        "a,b,c=map(int,input().split())\n",
        "if((a+b>c) and (a+c>b) and (b+c>a)):\n",
        "    if(a==b and b==c):\n",
        "        print(\"Tam giác đều\")\n",
        "    else:\n",
        "        if(a==b or a==c or b==c):\n",
        "            print(\"Tam giác cân\")\n",
        "else:\n",
        "    print(\"Không phải tam giác\")"
      ],
      "metadata": {
        "id": "AhFG4bhpwcNx"
      },
      "execution_count": null,
      "outputs": []
    },
    {
      "cell_type": "code",
      "source": [
        "#bai12\n",
        "n=int(input())\n",
        "if(n%4==0 and n%100!=0)or(n%400==0):\n",
        "    print(\"Yes\")\n",
        "else:\n",
        "    print(\"No\")\n"
      ],
      "metadata": {
        "id": "vYsJVnuLyhMx"
      },
      "execution_count": null,
      "outputs": []
    },
    {
      "cell_type": "code",
      "source": [
        "#bai13\n",
        "tmp=int(input())\n",
        "level=[75000,175000]\n",
        "if(tmp<=50):\n",
        "    ans=tmp*1500\n",
        "if(tmp>50 and tmp<=100):\n",
        "    ans=level[0]+(tmp-50)*2000\n",
        "if(tmp>100):\n",
        "    ans=level[1]+(tmp-100)*3000\n",
        "print(ans)"
      ],
      "metadata": {
        "id": "88BLBjCbzRWW"
      },
      "execution_count": null,
      "outputs": []
    },
    {
      "cell_type": "code",
      "source": [
        "#bai14\n",
        "a=float(input())\n",
        "b=float(input())\n",
        "if(a==0 and b==0):\n",
        "    print(\"Vô số nghiệm\")\n",
        "elif(a==0 and b!=0):\n",
        "    print(\"Vô nghiệm\")\n",
        "elif(a!=0 and b==0):\n",
        "    print(\"0.00\")\n",
        "else:\n",
        "    ans=-b/a\n",
        "    print(f\"{ans:.2f}\")\n"
      ],
      "metadata": {
        "id": "zNusIPRo1By5"
      },
      "execution_count": null,
      "outputs": []
    },
    {
      "cell_type": "code",
      "source": [
        "#bai15\n",
        "a=float(input())\n",
        "if(a>=8):\n",
        "    print(\"Giỏi\")\n",
        "elif(a<8 and a>=6.5):\n",
        "    print(\"Khá\")\n",
        "elif(a<6.5 and a>=5):\n",
        "    print(\"Trung bình\")\n",
        "elif(a<5):\n",
        "    print(\"Yếu\")\n"
      ],
      "metadata": {
        "id": "DNuzc5e31fbt"
      },
      "execution_count": null,
      "outputs": []
    },
    {
      "cell_type": "code",
      "source": [
        "#bai16\n",
        "n=float(input())\n",
        "decimal=abs(n)-abs(int(n))\n",
        "if(decimal==0):\n",
        "    ans=int(n)\n",
        "    print(f\"{ans} {ans} {ans}\")\n",
        "else:\n",
        "    if(n<0):\n",
        "        len=int(n)\n",
        "        xuong=int(n-1)\n",
        "        if(decimal<0.5):\n",
        "            nguyen=int(n)\n",
        "        else:\n",
        "            nguyen=int(n-1)\n",
        "        print(f\"{len} {xuong} {nguyen}\")\n",
        "    else:\n",
        "        xuong=int(n)\n",
        "        if(decimal<0.5):\n",
        "            len=int(n+1)\n",
        "            nguyen=int(n)\n",
        "        else:\n",
        "            len=int(n+0.5)\n",
        "            nguyen=int(n+1)\n",
        "        print(f\"{len} {xuong} {nguyen}\")"
      ],
      "metadata": {
        "id": "gts9Ecv-7QqY"
      },
      "execution_count": null,
      "outputs": []
    }
  ]
}