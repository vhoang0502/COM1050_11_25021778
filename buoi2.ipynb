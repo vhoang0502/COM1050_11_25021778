{
  "nbformat": 4,
  "nbformat_minor": 0,
  "metadata": {
    "colab": {
      "provenance": []
    },
    "kernelspec": {
      "name": "python3",
      "display_name": "Python 3"
    },
    "language_info": {
      "name": "python"
    }
  },
  "cells": [
    {
      "cell_type": "code",
      "execution_count": 1,
      "metadata": {
        "colab": {
          "base_uri": "https://localhost:8080/"
        },
        "id": "bz2oRRfZ2U32",
        "outputId": "2d2bbecc-8071-48ca-aa7b-46df9ab6545c"
      },
      "outputs": [
        {
          "output_type": "stream",
          "name": "stdout",
          "text": [
            "2\n",
            "4\n"
          ]
        }
      ],
      "source": [
        "#homework1\n",
        "n=int(input())\n",
        "print(n*2)"
      ]
    },
    {
      "cell_type": "code",
      "source": [
        "#homework2\n",
        "a=float(input(\"Nhap vao a:\"))\n",
        "b=float(input(\"Nhap vao b:\"))\n",
        "r=a/2\n",
        "circle=r*r*3.14\n",
        "ans=(a*b)-circle\n",
        "print(round(ans,2))\n"
      ],
      "metadata": {
        "id": "J_8Nit1I9NhK"
      },
      "execution_count": null,
      "outputs": []
    },
    {
      "cell_type": "code",
      "source": [
        "#homework3\n",
        "a=ord(input(\"Nhap vao ki tu c:\"))\n",
        "if(a>=97 and a<=122):\n",
        "    a-=32\n",
        "    print(chr(a))\n",
        "elif(a>=65 and a<=90):\n",
        "    a+=32\n",
        "    print(chr(a))\n"
      ],
      "metadata": {
        "id": "zTJiNe7O9ZVy"
      },
      "execution_count": null,
      "outputs": []
    },
    {
      "cell_type": "code",
      "source": [
        "#homework4\n",
        "a=ord(input(\"Nhap vao ki tu c:\"))\n",
        "dieu_kien=0\n",
        "if(a>=97 and a<=122) or (a>=65 and a<=90):\n",
        "    dieu_kien=1\n",
        "if(dieu_kien==1):\n",
        "    print(f\"{chr(a)} la ki tu alphabet\")\n",
        "elif(dieu_kien==0):\n",
        "    print(f\"{chr(a)} khong la ki tu alphabet\")\n"
      ],
      "metadata": {
        "colab": {
          "base_uri": "https://localhost:8080/"
        },
        "id": "wB5KQRWw9cUc",
        "outputId": "c411db9f-c46e-41a4-eb97-32d258178d41"
      },
      "execution_count": 2,
      "outputs": [
        {
          "output_type": "stream",
          "name": "stdout",
          "text": [
            "Nhap vao ki tu c:f\n",
            "f la ki tu alphabet\n"
          ]
        }
      ]
    },
    {
      "cell_type": "code",
      "source": [
        "#homework5\n",
        "c=ord(input(\"Nhập vào chữ cái in hoa:\"))\n",
        "if(c>65 and c<=90):\n",
        "    c+=31\n",
        "    print(chr(c))\n",
        "elif(c==65):\n",
        "    print(\"Trường hợp đặc biệt, không có chữ cái thường liền trước\")\n"
      ],
      "metadata": {
        "id": "NOXFWuSL9nZB"
      },
      "execution_count": null,
      "outputs": []
    },
    {
      "cell_type": "code",
      "source": [
        "#homework6\n",
        "import math\n",
        "a=float(input(\"Nhap vao canh thu nhat:\"))\n",
        "b=float(input(\"Nhap vao canh thu hai:\"))\n",
        "c=float(input(\"Nhap vao canh thu ba:\"))\n",
        "p=(a+b+c)/2\n",
        "s=math.sqrt(p*(p-a)*(p-b)*(p-c))\n",
        "if((a+b>c) and (a+c>b) and (b+c>a)):\n",
        "    print(round(s,1))\n",
        "else:\n",
        "    print(\"Khong phai 3 canh cua tam giac\")"
      ],
      "metadata": {
        "id": "3-Z4PVph9qH8"
      },
      "execution_count": null,
      "outputs": []
    },
    {
      "cell_type": "code",
      "source": [
        "#homework7\n",
        "dieukien=0\n",
        "while(dieukien==0):\n",
        "    s=input(\"Nhap chuoi ki tu:\")\n",
        "    if(len(s)<20):\n",
        "        print(\"Chuoi nay chua du do dai, hay nhap lai.\")\n",
        "    elif(len(s)>=20):\n",
        "        dieukien=1\n",
        "print(f\"Chu cai thu 5 la {s[4]} \\nChu cai thu 9 la {s[8]}\")"
      ],
      "metadata": {
        "id": "r2i0-EEh9rkw"
      },
      "execution_count": null,
      "outputs": []
    },
    {
      "cell_type": "code",
      "source": [
        "#homework8\n",
        "name=input(\"Nhap ten chu ho:\")\n",
        "x=int(input(\"Nhap chi so thang truoc:\"))\n",
        "y=int(input(\"Nhap chi so thang nay:\"))\n",
        "tmp=y-x\n",
        "level=[99200,201700,439700,739500,1074500]\n",
        "if(tmp<=50):\n",
        "    ans=tmp*1984\n",
        "if(tmp>50 and tmp<=100):\n",
        "    ans=level[0]+(tmp-50)*2050\n",
        "if(tmp>100 and tmp<=200):\n",
        "    ans=level[1]+(tmp-100)*2380\n",
        "if(tmp>200 and tmp<=300):\n",
        "    ans=level[2]+(tmp-200)*2998\n",
        "if(tmp>300 and tmp<=400):\n",
        "    ans=level[3]+(tmp-300)*3350\n",
        "if(tmp>400):\n",
        "    ans=level[4]+(tmp-400)*3460\n",
        "ans=ans*1.08\n",
        "print(f\"Ho va ten: {name}\")\n",
        "print(f\"Tien phai tra la: {int(ans)}\")"
      ],
      "metadata": {
        "colab": {
          "base_uri": "https://localhost:8080/"
        },
        "id": "BSH49PzU9s54",
        "outputId": "25a3f517-0b92-4484-f620-8948c1695481"
      },
      "execution_count": 3,
      "outputs": [
        {
          "output_type": "stream",
          "name": "stdout",
          "text": [
            "Nhap ten chu ho:viet hoang\n",
            "Nhap chi so thang truoc:52352\n",
            "Nhap chi so thang nay:62525\n",
            "Ho va ten: viet hoang\n",
            "Tien phai tra la: 37680206\n"
          ]
        }
      ]
    },
    {
      "cell_type": "code",
      "source": [
        "#BT khac\n",
        "#1\n",
        "n=int(input(\"Nhap so n:\"))\n",
        "if(n%2==0):\n",
        "    print(\"Day la so chan\")\n",
        "else:\n",
        "    print(\"Day la so le\")"
      ],
      "metadata": {
        "id": "cfBgcn_K-HnO"
      },
      "execution_count": 4,
      "outputs": []
    },
    {
      "cell_type": "code",
      "source": [
        "#BT khac\n",
        "#2\n",
        "n=int(input(\"Nhap so nguyen:\"))\n",
        "if(n%10==5):\n",
        "    print(\"True\")\n",
        "else:\n",
        "    print(\"False\")\n"
      ],
      "metadata": {
        "colab": {
          "base_uri": "https://localhost:8080/"
        },
        "id": "0MOgwSoV-Ijy",
        "outputId": "ddb65c9f-dcea-42f4-b0b8-ccb86e319459"
      },
      "execution_count": 5,
      "outputs": [
        {
          "output_type": "stream",
          "name": "stdout",
          "text": [
            "Nhap so nguyen:5\n",
            "True\n"
          ]
        }
      ]
    },
    {
      "cell_type": "code",
      "source": [
        "#BT khac\n",
        "#3\n",
        "n=int(input(\"Nhap so nguyen:\"))\n",
        "if(n%5==0 and n%3==0):\n",
        "    print(\"True\")\n",
        "else:\n",
        "    print(\"False\")\n"
      ],
      "metadata": {
        "colab": {
          "base_uri": "https://localhost:8080/"
        },
        "id": "HGSgvMK6-YcL",
        "outputId": "9e660a57-f277-4d1c-cfaa-8ea9d7d0374b"
      },
      "execution_count": 6,
      "outputs": [
        {
          "output_type": "stream",
          "name": "stdout",
          "text": [
            "Nhap so nguyen:74\n",
            "False\n"
          ]
        }
      ]
    },
    {
      "cell_type": "code",
      "source": [
        "#BT khac\n",
        "#4\n",
        "n=int(input(\"Nhap so tuoi cua ban:\"))\n",
        "if(n>=18):\n",
        "    print(\"Du tuoi di bau cu\")\n",
        "else:\n",
        "    print(\"Khong du tuoi di bau cu\")\n"
      ],
      "metadata": {
        "id": "ulbbeaS1-dzb"
      },
      "execution_count": null,
      "outputs": []
    },
    {
      "cell_type": "code",
      "source": [
        "#BT khac\n",
        "#5\n",
        "a=int(input(\"Nhap so thu nhat:\"))\n",
        "b=int(input(\"Nhap so thu hai:\"))\n",
        "if(a!=b):\n",
        "    print(max(a,b))\n",
        "else:\n",
        "    print(\"Hai so bang nhau\")\n",
        "\n"
      ],
      "metadata": {
        "id": "-B5Djt9--hLY"
      },
      "execution_count": null,
      "outputs": []
    },
    {
      "cell_type": "code",
      "source": [
        "#BT khac\n",
        "#6\n",
        "x=ord(input(\"Nhap ki tu:\"))\n",
        "if(x>=48 and x<=57):\n",
        "    print(\"Day la so\")\n",
        "elif((x>=65 and x<=90)or(x>=97 and x<=122)):\n",
        "    print(\"Day la chu\")\n",
        "\n"
      ],
      "metadata": {
        "id": "Ay48gMfU-ium"
      },
      "execution_count": null,
      "outputs": []
    },
    {
      "cell_type": "code",
      "source": [
        "#BT khac\n",
        "#7\n",
        "x=float(input(\"Nhap diem:\"))\n",
        "if(x<5):\n",
        "    print(\"Hoc luc yeu\")\n",
        "elif(x>=5 and x<6.5):\n",
        "    print(\"Hoc luc trung binh\")\n",
        "elif(x>=6.5 and x<8):\n",
        "    print(\"Hoc luc kha\")\n",
        "elif(x>=8):\n",
        "    print(\"Hoc luc gioi\")\n",
        "\n"
      ],
      "metadata": {
        "id": "vOig064L-kjJ"
      },
      "execution_count": null,
      "outputs": []
    },
    {
      "cell_type": "code",
      "source": [
        "#BT khac\n",
        "#8\n",
        "x=int(input(\"Nhap nam:\"))\n",
        "if((x%400==0)or (x%4==0) and (x%100!=0)):\n",
        "    print(\"Day la nam nhuan\")\n",
        "else:\n",
        "    print(\"Day khong phai la nam nhuan\")\n",
        "\n",
        "\n"
      ],
      "metadata": {
        "id": "JHGxjFpE-kl4"
      },
      "execution_count": null,
      "outputs": []
    },
    {
      "cell_type": "code",
      "source": [
        "#BT khac\n",
        "#9\n",
        "n=int(input(\"Nhập số:\"))\n",
        "match n:\n",
        "    case (0):\n",
        "        print(\"Không\")\n",
        "    case (1):\n",
        "        print(\"Một\")\n",
        "    case (2):\n",
        "        print(\"Hai\")\n",
        "    case (3):\n",
        "        print(\"Ba\")\n",
        "    case (4):\n",
        "        print(\"Bốn\")\n",
        "    case (5):\n",
        "        print(\"Năm\")\n",
        "    case (6):\n",
        "        print(\"Sáu\")\n",
        "    case (7):\n",
        "        print(\"Bảy\")\n",
        "    case (8):\n",
        "        print(\"Tám\")\n",
        "    case (9):\n",
        "        print(\"Chín\")\n",
        "\n",
        "\n"
      ],
      "metadata": {
        "id": "D3z1rp-Y-koC"
      },
      "execution_count": null,
      "outputs": []
    },
    {
      "cell_type": "code",
      "source": [
        "#BT khac\n",
        "#10\n",
        "x=int(input(\"Nhap diem:\"))\n",
        "if(x>=4):\n",
        "    print(\"Qua môn\")\n",
        "else:\n",
        "    print(\"Học lại\")\n",
        "\n",
        "\n"
      ],
      "metadata": {
        "id": "0LGjvbUI-krj"
      },
      "execution_count": null,
      "outputs": []
    },
    {
      "cell_type": "code",
      "source": [
        "#BT khac\n",
        "#11\n",
        "x=int(input(\"Nhập năm sinh:\"))\n",
        "ans=2025-x\n",
        "print(f\"Tuổi của bạn là {ans}\")\n",
        "if(ans>=18):\n",
        "    print(\"Đủ 18 tuổi\")\n",
        "else:\n",
        "    print(\"Chưa đủ 18 tuổi\")\n",
        "\n",
        "\n",
        "\n"
      ],
      "metadata": {
        "id": "w2X3u1Qs-zvO"
      },
      "execution_count": null,
      "outputs": []
    }
  ]
}